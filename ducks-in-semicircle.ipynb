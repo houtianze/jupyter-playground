{
  "nbformat": 4,
  "nbformat_minor": 0,
  "metadata": {
    "colab": {
      "provenance": [],
      "authorship_tag": "ABX9TyNe9jwgv1tOf/sZi1OLCcR3",
      "include_colab_link": true
    },
    "kernelspec": {
      "name": "python3",
      "display_name": "Python 3"
    },
    "language_info": {
      "name": "python"
    }
  },
  "cells": [
    {
      "cell_type": "markdown",
      "metadata": {
        "id": "view-in-github",
        "colab_type": "text"
      },
      "source": [
        "<a href=\"https://colab.research.google.com/github/houtianze/jupyter-playground/blob/main/ducks-in-semicircle.ipynb\" target=\"_parent\"><img src=\"https://colab.research.google.com/assets/colab-badge.svg\" alt=\"Open In Colab\"/></a>"
      ]
    },
    {
      "cell_type": "code",
      "execution_count": 42,
      "metadata": {
        "id": "QSPtL1KN0390",
        "colab": {
          "base_uri": "https://localhost:8080/"
        },
        "outputId": "3013b09b-0ca2-4c75-ce0b-1a57ff990361"
      },
      "outputs": [
        {
          "output_type": "stream",
          "name": "stdout",
          "text": [
            "0.37505\n"
          ]
        }
      ],
      "source": [
        "import random\n",
        "\n",
        "nduck = 4\n",
        "total = 100000\n",
        "yes = 0\n",
        "\n",
        "def issemi(a):\n",
        "  return all(x < 0.5 for x in a) or all(x >= 0.5 for x in a) or (1 - a[-1] + a[-2]) < 0.5\n",
        "\n",
        "for _ in range(total):\n",
        "  a = [random.random() for _ in range(nduck - 1)]\n",
        "  if issemi(sorted(a)):\n",
        "    yes += 1\n",
        "\n",
        "print(yes/total)\n"
      ]
    },
    {
      "cell_type": "code",
      "source": [],
      "metadata": {
        "id": "sqfCnY-YFOUB"
      },
      "execution_count": null,
      "outputs": []
    }
  ]
}