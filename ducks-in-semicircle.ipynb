{
  "nbformat": 4,
  "nbformat_minor": 0,
  "metadata": {
    "colab": {
      "provenance": [],
      "authorship_tag": "ABX9TyPWCfJzbUn3Jkfd40k/Hh1a",
      "include_colab_link": true
    },
    "kernelspec": {
      "name": "python3",
      "display_name": "Python 3"
    },
    "language_info": {
      "name": "python"
    }
  },
  "cells": [
    {
      "cell_type": "markdown",
      "metadata": {
        "id": "view-in-github",
        "colab_type": "text"
      },
      "source": [
        "<a href=\"https://colab.research.google.com/github/houtianze/jupyter-playground/blob/main/ducks-in-semicircle.ipynb\" target=\"_parent\"><img src=\"https://colab.research.google.com/assets/colab-badge.svg\" alt=\"Open In Colab\"/></a>"
      ]
    },
    {
      "cell_type": "code",
      "execution_count": 12,
      "metadata": {
        "id": "QSPtL1KN0390",
        "colab": {
          "base_uri": "https://localhost:8080/"
        },
        "outputId": "4d5c6462-08f0-4dd2-85cd-0f7a347ce257"
      },
      "outputs": [
        {
          "output_type": "stream",
          "name": "stdout",
          "text": [
            "0.50023\n"
          ]
        }
      ],
      "source": [
        "import random\n",
        "\n",
        "nduck = 4\n",
        "total = 100000\n",
        "yes = 0\n",
        "\n",
        "def issemi(a):\n",
        "  if all(x < 0.5 for x in a) or all(x >= 0.5 for x in a):\n",
        "    return True\n",
        "  else:\n",
        "    for i in range(len(a) - 1):\n",
        "      if a[i] < 0.5 and a[i+1] >= 0.5:\n",
        "        return a[i + 1] - a[i] >= 0.5\n",
        "    return False\n",
        "\n",
        "for _ in range(total):\n",
        "  a = [random.random() for _ in range(nduck - 1)]\n",
        "  if issemi(sorted(a)):\n",
        "    yes += 1\n",
        "\n",
        "print(yes/total)\n"
      ]
    }
  ]
}